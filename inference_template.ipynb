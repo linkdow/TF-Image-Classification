{
 "cells": [
  {
   "attachments": {},
   "cell_type": "markdown",
   "metadata": {},
   "source": [
    "## Importing libraries"
   ]
  },
  {
   "cell_type": "code",
   "execution_count": 1,
   "metadata": {},
   "outputs": [],
   "source": [
    "import matplotlib.pyplot as plt\n",
    "import numpy as np\n",
    "import time\n",
    "import os\n",
    "\n",
    "import tensorflow as tf\n",
    "from tensorflow import keras\n",
    "from keras.models import load_model"
   ]
  },
  {
   "attachments": {},
   "cell_type": "markdown",
   "metadata": {},
   "source": [
    "Defining global variables"
   ]
  },
  {
   "cell_type": "code",
   "execution_count": null,
   "metadata": {},
   "outputs": [],
   "source": [
    "name_model = \"NameOfYourModel.h5\" # The name and/or path to where the weigths of your model are stored.\n",
    "data_dir = \"H:/your_path_here/\" # path to the dataset you want to run the inference on.\n",
    "width, height = 250, 250 # Size of your images in your dataset.\n",
    "class_names = [\"Name class 1\",\"Name class 2\"] # list of all the different class names that your model can predict\n",
    "batch_size = 16\n",
    "results_path = \"predictions.txt\" # will store the predictions for each images in a .txt file"
   ]
  },
  {
   "attachments": {},
   "cell_type": "markdown",
   "metadata": {},
   "source": [
    "Helper functions"
   ]
  },
  {
   "cell_type": "code",
   "execution_count": null,
   "metadata": {},
   "outputs": [],
   "source": [
    "def time_it(func):\n",
    "    \"\"\" Usage : Put @time_it before your function to calculate execution time. \"\"\"\n",
    "    def wrapper(*args, **kwargs):\n",
    "        start = time.time()\n",
    "        result = func(*args, **kwargs)\n",
    "        end = time.time()\n",
    "        print(f\"Execution time of {func.__name__}: {end - start:.5f} seconds\")\n",
    "        return result\n",
    "    return wrapper"
   ]
  },
  {
   "attachments": {},
   "cell_type": "markdown",
   "metadata": {},
   "source": [
    "Loading Model"
   ]
  },
  {
   "cell_type": "code",
   "execution_count": 2,
   "metadata": {},
   "outputs": [],
   "source": [
    "saved_model = load_model(name_model)"
   ]
  },
  {
   "cell_type": "code",
   "execution_count": null,
   "metadata": {},
   "outputs": [],
   "source": [
    "# Load the new dataset\n",
    "new_dataset = tf.keras.preprocessing.image_dataset_from_directory(data_dir,labels = None, batch_size=batch_size, image_size=(width, height),shuffle=False)"
   ]
  },
  {
   "cell_type": "code",
   "execution_count": null,
   "metadata": {},
   "outputs": [],
   "source": [
    "# Make predictions on the new dataset\n",
    "predictions = saved_model.predict(new_dataset)"
   ]
  },
  {
   "cell_type": "code",
   "execution_count": null,
   "metadata": {},
   "outputs": [],
   "source": [
    "# Transforms model outputs to class names for each predictions\n",
    "labels = []\n",
    "for i in predictions:\n",
    "    labels.append(class_names[np.argmax(i)])\n",
    "labels[0:5]"
   ]
  },
  {
   "cell_type": "code",
   "execution_count": null,
   "metadata": {},
   "outputs": [],
   "source": [
    "image_names = new_dataset.file_paths\n",
    "image_names = [os.path.basename(name) for name in image_names]\n",
    "image_names[0]"
   ]
  },
  {
   "cell_type": "code",
   "execution_count": 15,
   "metadata": {},
   "outputs": [],
   "source": [
    "# Save predictions to a .txt file.\n",
    "with open(results_path, 'w') as f:\n",
    "    for image_name, prediction in zip(image_names, labels):\n",
    "        f.write('{};{}\\n'.format(image_name, prediction))"
   ]
  },
  {
   "attachments": {},
   "cell_type": "markdown",
   "metadata": {},
   "source": [
    "Plot some images and their predictions"
   ]
  },
  {
   "cell_type": "code",
   "execution_count": null,
   "metadata": {},
   "outputs": [],
   "source": [
    "# Get the data for the plot\n",
    "data = zip(new_dataset.file_paths, predictions)\n",
    "\n",
    "plt.figure(figsize=(12, 12))\n",
    "for i in range(min(batch_size,16)):\n",
    "    for image_path, pred in data:\n",
    "        ax = plt.subplot(4, 4, i + 1)\n",
    "        # Load the image\n",
    "        img = tf.keras.utils.load_img(image_path)\n",
    "\n",
    "        # Show the image\n",
    "        plt.imshow(img)\n",
    "        plt.axis(\"off\")\n",
    "\n",
    "        # Set the title of the subplot to the predicted label\n",
    "        plt.title(class_names[np.argmax(pred)])\n",
    "        break\n",
    "plt.show()"
   ]
  }
 ],
 "metadata": {
  "kernelspec": {
   "display_name": "Python 3",
   "language": "python",
   "name": "python3"
  },
  "language_info": {
   "codemirror_mode": {
    "name": "ipython",
    "version": 3
   },
   "file_extension": ".py",
   "mimetype": "text/x-python",
   "name": "python",
   "nbconvert_exporter": "python",
   "pygments_lexer": "ipython3",
   "version": "3.9.16"
  },
  "orig_nbformat": 4
 },
 "nbformat": 4,
 "nbformat_minor": 2
}
